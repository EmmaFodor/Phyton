{
  "nbformat": 4,
  "nbformat_minor": 0,
  "metadata": {
    "colab": {
      "provenance": []
    },
    "kernelspec": {
      "name": "python3",
      "display_name": "Python 3"
    },
    "language_info": {
      "name": "python"
    }
  },
  "cells": [
    {
      "cell_type": "code",
      "execution_count": null,
      "metadata": {
        "colab": {
          "base_uri": "https://localhost:8080/"
        },
        "id": "8wLxG0nFwT01",
        "outputId": "165adbfb-5d26-43fc-a276-c240e6b350be"
      },
      "outputs": [
        {
          "output_type": "stream",
          "name": "stdout",
          "text": [
            "Mounted at /content/gdrive/\n"
          ]
        }
      ],
      "source": [
        "from google.colab import drive\n",
        "drive.mount('/content/gdrive/')\n"
      ]
    },
    {
      "cell_type": "markdown",
      "source": [
        "Salvare date in cloud"
      ],
      "metadata": {
        "id": "fkLtN5Wg0lfm"
      }
    },
    {
      "cell_type": "code",
      "source": [
        "print(4)"
      ],
      "metadata": {
        "colab": {
          "base_uri": "https://localhost:8080/"
        },
        "id": "8DkuswJo1ixK",
        "outputId": "74655052-b6ea-453b-f67b-71558214c1eb"
      },
      "execution_count": null,
      "outputs": [
        {
          "output_type": "stream",
          "name": "stdout",
          "text": [
            "4\n"
          ]
        }
      ]
    },
    {
      "cell_type": "code",
      "source": [
        "type('Hello')"
      ],
      "metadata": {
        "colab": {
          "base_uri": "https://localhost:8080/"
        },
        "id": "8VoPOs1O16NR",
        "outputId": "91699cdb-31a7-44ab-e17a-02baab6907e9"
      },
      "execution_count": null,
      "outputs": [
        {
          "output_type": "execute_result",
          "data": {
            "text/plain": [
              "str"
            ]
          },
          "metadata": {},
          "execution_count": 3
        }
      ]
    },
    {
      "cell_type": "code",
      "source": [
        "type(3.2)"
      ],
      "metadata": {
        "colab": {
          "base_uri": "https://localhost:8080/"
        },
        "id": "2UfjUZNE2AUS",
        "outputId": "8453b0ce-8825-4016-c53c-0ca11079d720"
      },
      "execution_count": null,
      "outputs": [
        {
          "output_type": "execute_result",
          "data": {
            "text/plain": [
              "float"
            ]
          },
          "metadata": {},
          "execution_count": 4
        }
      ]
    },
    {
      "cell_type": "code",
      "source": [
        "print(1,000,000)"
      ],
      "metadata": {
        "colab": {
          "base_uri": "https://localhost:8080/"
        },
        "id": "MwYUWDEz2IKi",
        "outputId": "51bf175a-01e3-4fa3-ea0b-5430d1e60b2b"
      },
      "execution_count": null,
      "outputs": [
        {
          "output_type": "stream",
          "name": "stdout",
          "text": [
            "1 0 0\n"
          ]
        }
      ]
    },
    {
      "cell_type": "code",
      "source": [
        "n=17\n",
        "p=3.14\n",
        "print(n)\n",
        "print(p)"
      ],
      "metadata": {
        "colab": {
          "base_uri": "https://localhost:8080/"
        },
        "id": "T0FudwZn2gC5",
        "outputId": "5693d64f-4250-4389-fcf1-4e90458785e7"
      },
      "execution_count": null,
      "outputs": [
        {
          "output_type": "stream",
          "name": "stdout",
          "text": [
            "17\n",
            "3.14\n"
          ]
        }
      ]
    },
    {
      "cell_type": "code",
      "source": [
        "rest=7%3\n",
        "print(rest)"
      ],
      "metadata": {
        "colab": {
          "base_uri": "https://localhost:8080/"
        },
        "id": "c6BMWtIj3GHb",
        "outputId": "fb9aea6a-c7a1-47bb-e935-24296c77bea9"
      },
      "execution_count": null,
      "outputs": [
        {
          "output_type": "stream",
          "name": "stdout",
          "text": [
            "1\n"
          ]
        }
      ]
    },
    {
      "cell_type": "code",
      "source": [
        "primul='100'\n",
        "second='150'\n",
        "print(primul+second)\n"
      ],
      "metadata": {
        "colab": {
          "base_uri": "https://localhost:8080/"
        },
        "id": "BTYg0BmZ3Xj6",
        "outputId": "c5e57c84-c392-48b4-c37e-885b2dc65b66"
      },
      "execution_count": null,
      "outputs": [
        {
          "output_type": "stream",
          "name": "stdout",
          "text": [
            "100150\n"
          ]
        }
      ]
    },
    {
      "cell_type": "code",
      "source": [
        "primul='Test '\n",
        "second=3\n",
        "print(primul*second)\n"
      ],
      "metadata": {
        "colab": {
          "base_uri": "https://localhost:8080/"
        },
        "id": "AUuYHljV3uTo",
        "outputId": "0f84ac96-e1f6-4899-96d5-0f56d676a150"
      },
      "execution_count": null,
      "outputs": [
        {
          "output_type": "stream",
          "name": "stdout",
          "text": [
            "Test Test Test \n"
          ]
        }
      ]
    },
    {
      "cell_type": "code",
      "source": [
        "nume=input('Cum va numiti?\\n')\n",
        "print(nume)"
      ],
      "metadata": {
        "id": "T6KxulIO4uoI"
      },
      "execution_count": null,
      "outputs": []
    },
    {
      "cell_type": "code",
      "source": [
        "nr_ore=input()\n",
        "rata=input()\n",
        "print(int(nr_ore)*int(rata))"
      ],
      "metadata": {
        "colab": {
          "base_uri": "https://localhost:8080/"
        },
        "id": "RIQyhUhB5oYJ",
        "outputId": "0d08dce2-2bdc-439c-bdbe-cbe768e90556"
      },
      "execution_count": null,
      "outputs": [
        {
          "output_type": "stream",
          "name": "stdout",
          "text": [
            "30\n",
            "20\n",
            "600\n"
          ]
        }
      ]
    },
    {
      "cell_type": "code",
      "source": [
        "grade=input()\n",
        "fah=int(grade)*1.8+32\n",
        "print(int(fah))"
      ],
      "metadata": {
        "colab": {
          "base_uri": "https://localhost:8080/"
        },
        "id": "xNMlmi1_5-LB",
        "outputId": "b2ba053b-0426-45e3-a149-015082140501"
      },
      "execution_count": null,
      "outputs": [
        {
          "output_type": "stream",
          "name": "stdout",
          "text": [
            "23\n",
            "73\n"
          ]
        }
      ]
    },
    {
      "cell_type": "code",
      "source": [
        "latime=17\n",
        "inaltime=12.0\n",
        "print(latime//2)\n",
        "print(latime/2.0)\n",
        "print(inaltime/3)\n",
        "print(1+2*5)"
      ],
      "metadata": {
        "colab": {
          "base_uri": "https://localhost:8080/"
        },
        "id": "fcbovV2k7ai9",
        "outputId": "321001d4-d84f-4fe5-e259-4bca08e842f6"
      },
      "execution_count": null,
      "outputs": [
        {
          "output_type": "stream",
          "name": "stdout",
          "text": [
            "8\n",
            "8.5\n",
            "4.0\n",
            "11\n"
          ]
        }
      ]
    },
    {
      "cell_type": "code",
      "source": [
        "# calculeaza procentul dintr-o ora\n",
        "minute=60\n",
        "percentage = (minute * 100) / 60"
      ],
      "metadata": {
        "id": "zedvR8HR5KQQ"
      },
      "execution_count": null,
      "outputs": []
    }
  ]
}