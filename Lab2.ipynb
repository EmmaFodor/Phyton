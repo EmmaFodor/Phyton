{
  "nbformat": 4,
  "nbformat_minor": 0,
  "metadata": {
    "colab": {
      "provenance": [],
      "collapsed_sections": [],
      "authorship_tag": "ABX9TyMAK2/08nXKXaLiZrPOyQ48"
    },
    "kernelspec": {
      "name": "python3",
      "display_name": "Python 3"
    },
    "language_info": {
      "name": "python"
    }
  },
  "cells": [
    {
      "cell_type": "code",
      "execution_count": null,
      "metadata": {
        "colab": {
          "base_uri": "https://localhost:8080/"
        },
        "id": "B8_-D0WhytDl",
        "outputId": "5ba2f0ee-892f-4de0-ee87-098bd00f28f3"
      },
      "outputs": [
        {
          "output_type": "execute_result",
          "data": {
            "text/plain": [
              "True"
            ]
          },
          "metadata": {},
          "execution_count": 1
        }
      ],
      "source": [
        "5 == 5"
      ]
    },
    {
      "cell_type": "code",
      "source": [
        "5 == 6"
      ],
      "metadata": {
        "colab": {
          "base_uri": "https://localhost:8080/"
        },
        "id": "fnRtZnK4y3Fo",
        "outputId": "bb6c2cf9-077f-4343-d78e-3243347b4b5b"
      },
      "execution_count": null,
      "outputs": [
        {
          "output_type": "execute_result",
          "data": {
            "text/plain": [
              "False"
            ]
          },
          "metadata": {},
          "execution_count": 2
        }
      ]
    },
    {
      "cell_type": "code",
      "source": [
        "if 5%2==0 :\n",
        "  print  ('x este par')\n",
        "else  :\n",
        "  print  ('x este impar')"
      ],
      "metadata": {
        "colab": {
          "base_uri": "https://localhost:8080/"
        },
        "id": "9exoj2cOzdCw",
        "outputId": "3a57a312-a05c-4086-d0c2-dfbd4165a6c5"
      },
      "execution_count": null,
      "outputs": [
        {
          "output_type": "stream",
          "name": "stdout",
          "text": [
            "x este impar\n"
          ]
        }
      ]
    },
    {
      "cell_type": "code",
      "source": [
        "if 4 < 8:\n",
        "  print('x mai mic decat y')\n",
        "elif x > y:\n",
        "  print('x mai mare decat y')\n",
        "else:\n",
        "  print('x si y sunt egale')\n"
      ],
      "metadata": {
        "colab": {
          "base_uri": "https://localhost:8080/"
        },
        "id": "1p8Ii12T13p-",
        "outputId": "721121b8-4f6b-4e56-a81c-bc2a4c94f74d"
      },
      "execution_count": null,
      "outputs": [
        {
          "output_type": "stream",
          "name": "stdout",
          "text": [
            "x mai mic decat y\n"
          ]
        }
      ]
    },
    {
      "cell_type": "code",
      "source": [
        "if 4 == 9:\n",
        "  print('x and y are equal')\n",
        "else:\n",
        "  if 4 < 9:\n",
        "    print('x is less than y')\n",
        "  else:\n",
        "    print('x is greater than y')"
      ],
      "metadata": {
        "colab": {
          "base_uri": "https://localhost:8080/"
        },
        "id": "EvGLMtoU2FH1",
        "outputId": "d0cc308c-c8c6-4679-ce4d-bffe2f208632"
      },
      "execution_count": null,
      "outputs": [
        {
          "output_type": "stream",
          "name": "stdout",
          "text": [
            "x is less than y\n"
          ]
        }
      ]
    },
    {
      "cell_type": "code",
      "source": [
        "inp = input('Introduceti temperatura in grade Fahrenheit: ')\n",
        "fahr = float(inp)\n",
        "cel = (fahr - 32.0) * 5.0 / 9.0\n",
        "print(cel)\n"
      ],
      "metadata": {
        "colab": {
          "base_uri": "https://localhost:8080/"
        },
        "id": "f8H1HSmg2h9D",
        "outputId": "f8f03fd4-958c-42e3-a6c5-f7eb3e175dce"
      },
      "execution_count": null,
      "outputs": [
        {
          "output_type": "stream",
          "name": "stdout",
          "text": [
            "Introduceti temperatura in grade Fahrenheit: 73\n",
            "22.77777777777778\n"
          ]
        }
      ]
    },
    {
      "cell_type": "code",
      "source": [
        "inp = input('Introduceti temperatura in grade Fahrenheit: ')\n",
        "try:\n",
        " fahr = float(inp)\n",
        " cel = (fahr - 32.0) * 5.0 / 9.0\n",
        " print(cel)\n",
        "except:\n",
        " print('Introduceti o valoare numerica!')"
      ],
      "metadata": {
        "colab": {
          "base_uri": "https://localhost:8080/"
        },
        "id": "QAlDAs_82tNb",
        "outputId": "e9cb4159-cf83-480d-b0e1-a55e1894ed06"
      },
      "execution_count": null,
      "outputs": [
        {
          "output_type": "stream",
          "name": "stdout",
          "text": [
            "Introduceti temperatura in grade Fahrenheit: 72\n",
            "22.22222222222222\n"
          ]
        }
      ]
    },
    {
      "cell_type": "code",
      "source": [
        "enter_hours=45\n",
        "enter_rate=10\n",
        "pay=475.0\n",
        "if enter_hours>40:\n",
        "  enter_rate=enter_rate*1.5\n",
        "print('Salariul castigat este ', pay*enter_rate)"
      ],
      "metadata": {
        "colab": {
          "base_uri": "https://localhost:8080/"
        },
        "id": "Vn_kVF0k25ML",
        "outputId": "11d0fc96-e509-41e6-a811-944946d8613d"
      },
      "execution_count": null,
      "outputs": [
        {
          "output_type": "stream",
          "name": "stdout",
          "text": [
            "Salariul castigat este  7125.0\n"
          ]
        }
      ]
    },
    {
      "cell_type": "code",
      "source": [
        "enter_rate=10\n",
        "pay=475.0\n",
        "ore=input('Introduceti numarul de ore lucrate: ')\n",
        "enter_hours=float(ore)\n",
        "try:\n",
        "  if enter_hours>40:\n",
        "    enter_rate=enter_rate*1.5\n",
        "    print('Salariul castigat este ', pay*enter_rate)\n",
        "except:\n",
        "  print('Introduceti o valoare numerica!')"
      ],
      "metadata": {
        "colab": {
          "base_uri": "https://localhost:8080/"
        },
        "id": "GOrUbEyD4TYg",
        "outputId": "f7e59953-77d0-4fb7-cfcc-a84ca1668346"
      },
      "execution_count": null,
      "outputs": [
        {
          "output_type": "stream",
          "name": "stdout",
          "text": [
            "Introduceti numarul de ore lucrate: 45\n",
            "Salariul castigat este  7125.0\n"
          ]
        }
      ]
    },
    {
      "cell_type": "code",
      "source": [
        "max('Hello world')"
      ],
      "metadata": {
        "colab": {
          "base_uri": "https://localhost:8080/",
          "height": 35
        },
        "id": "ja-mG10N5hc5",
        "outputId": "023fcbf5-3002-4c11-abfe-adff02238320"
      },
      "execution_count": null,
      "outputs": [
        {
          "output_type": "execute_result",
          "data": {
            "text/plain": [
              "'w'"
            ],
            "application/vnd.google.colaboratory.intrinsic+json": {
              "type": "string"
            }
          },
          "metadata": {},
          "execution_count": 30
        }
      ]
    },
    {
      "cell_type": "code",
      "source": [
        "import math\n",
        "print(math.sqrt(2) / 2.0)"
      ],
      "metadata": {
        "colab": {
          "base_uri": "https://localhost:8080/"
        },
        "id": "nHgSx9VZ5vEr",
        "outputId": "6ecd0ea9-8112-427f-9891-42881e9dadb1"
      },
      "execution_count": null,
      "outputs": [
        {
          "output_type": "stream",
          "name": "stdout",
          "text": [
            "0.7071067811865476\n"
          ]
        }
      ]
    },
    {
      "cell_type": "code",
      "source": [
        "import random\n",
        "x = random.random()\n",
        "print(x)\n"
      ],
      "metadata": {
        "colab": {
          "base_uri": "https://localhost:8080/"
        },
        "id": "zrejhLLe5-5l",
        "outputId": "b2162584-879b-47f0-990d-15975fb7897f"
      },
      "execution_count": null,
      "outputs": [
        {
          "output_type": "stream",
          "name": "stdout",
          "text": [
            "0.1756204464637957\n"
          ]
        }
      ]
    },
    {
      "cell_type": "code",
      "source": [
        "t = [1, 2, 3]\n",
        "print(random.choice(t))\n"
      ],
      "metadata": {
        "colab": {
          "base_uri": "https://localhost:8080/"
        },
        "id": "6lxtER2H6Cpv",
        "outputId": "d4fa5baa-c741-4732-dfce-95e59c0248ea"
      },
      "execution_count": null,
      "outputs": [
        {
          "output_type": "stream",
          "name": "stdout",
          "text": [
            "1\n"
          ]
        }
      ]
    },
    {
      "cell_type": "code",
      "source": [
        "def print_lyrics():\n",
        "  print('Im a lumberjack, and Im okay.')\n",
        "  print('I sleep all night and I work all day.')\n",
        "print_lyrics()"
      ],
      "metadata": {
        "colab": {
          "base_uri": "https://localhost:8080/"
        },
        "id": "z2gB9gMB7Jvp",
        "outputId": "d7a3d9d8-d5cd-44d8-a19d-3cee5c74d5cf"
      },
      "execution_count": null,
      "outputs": [
        {
          "output_type": "stream",
          "name": "stdout",
          "text": [
            "Im a lumberjack, and Im okay.\n",
            "I sleep all night and I work all day.\n"
          ]
        }
      ]
    },
    {
      "cell_type": "code",
      "source": [
        "def print_twice(nume):\n",
        "  print(nume)\n",
        "  print(nume)\n",
        "print_twice('Ana')"
      ],
      "metadata": {
        "colab": {
          "base_uri": "https://localhost:8080/"
        },
        "id": "4BIdQnEt7qE2",
        "outputId": "79b3e1fe-cc51-4659-f79e-71d3c1661045"
      },
      "execution_count": null,
      "outputs": [
        {
          "output_type": "stream",
          "name": "stdout",
          "text": [
            "Ana\n",
            "Ana\n"
          ]
        }
      ]
    },
    {
      "cell_type": "code",
      "source": [
        "def adunare(a, b):\n",
        "  suma = a + b\n",
        "  return suma\n",
        "x = adunare(3, 5)"
      ],
      "metadata": {
        "id": "axldlJPC8DjH"
      },
      "execution_count": null,
      "outputs": []
    },
    {
      "cell_type": "code",
      "source": [
        "def calcul_salariu(ore, tarif_orar):\n",
        "  salar=ore*tarif_orar\n",
        "  return salar\n",
        "inp=input('Introduceti nr de ore lucrate ')\n",
        "nr_ore=float(inp)\n",
        "tarif_suplimentar=1.5\n",
        "tarif=1.0\n",
        "if nr_ore>40:\n",
        "  x = calcul_salariu(nr_ore, tarif_suplimentar)\n",
        "else:\n",
        "  x = calcul_salariu(nr_ore, tarif)\n",
        "print(x)"
      ],
      "metadata": {
        "colab": {
          "base_uri": "https://localhost:8080/"
        },
        "id": "75YHyAEv8Ngl",
        "outputId": "3964a651-4113-40f8-f6b6-4d45bfdf3aac"
      },
      "execution_count": null,
      "outputs": [
        {
          "output_type": "stream",
          "name": "stdout",
          "text": [
            "Introduceti nr de ore lucrate 45\n",
            "67.5\n"
          ]
        }
      ]
    },
    {
      "cell_type": "code",
      "source": [
        "prieteni = ['Alina', 'Ionel', 'Sandu']\n",
        "for prieten in prieteni:\n",
        "  print('La multi ani:', prieten)\n",
        "print('Gata!')"
      ],
      "metadata": {
        "colab": {
          "base_uri": "https://localhost:8080/"
        },
        "id": "lI-p9sLe-4J4",
        "outputId": "e33cbf4c-7536-4c66-c2cc-ae81858106eb"
      },
      "execution_count": null,
      "outputs": [
        {
          "output_type": "stream",
          "name": "stdout",
          "text": [
            "La multi ani: Alina\n",
            "La multi ani: Ionel\n",
            "La multi ani: Sandu\n",
            "Gata!\n"
          ]
        }
      ]
    },
    {
      "cell_type": "code",
      "source": [
        "count = 0\n",
        "for i in [3, 41, 12, 9, 74, 15]:\n",
        "  count = count + 1\n",
        "print('Count: ', count)\n"
      ],
      "metadata": {
        "colab": {
          "base_uri": "https://localhost:8080/"
        },
        "id": "_-y-10_p_EPU",
        "outputId": "5381a005-8a68-4c22-8821-6d11823ac628"
      },
      "execution_count": null,
      "outputs": [
        {
          "output_type": "stream",
          "name": "stdout",
          "text": [
            "Count:  6\n"
          ]
        }
      ]
    },
    {
      "cell_type": "code",
      "source": [
        "count = 0\n",
        "list_elem = [3,41,12,9,74,15]\n",
        "for i in list_elem:\n",
        "  count = count + 1\n",
        "print('Count: ', count)\n"
      ],
      "metadata": {
        "colab": {
          "base_uri": "https://localhost:8080/"
        },
        "id": "QFTwRcda_L4o",
        "outputId": "4f7c6ad7-8af2-4cd7-f2f8-dee0b011689d"
      },
      "execution_count": null,
      "outputs": [
        {
          "output_type": "stream",
          "name": "stdout",
          "text": [
            "Count:  6\n"
          ]
        }
      ]
    },
    {
      "cell_type": "code",
      "source": [
        "largest = None\n",
        "print('Before:', largest)\n",
        "for itervar in [3, 41, 12, 9, 74, 15]:\n",
        "  if largest is None or itervar > largest : \n",
        "        largest = itervar\n",
        "  print('Loop:', itervar, largest)\n",
        "print('Largest:', largest)"
      ],
      "metadata": {
        "colab": {
          "base_uri": "https://localhost:8080/"
        },
        "id": "IGmeL_I6_pwc",
        "outputId": "0f87f1d1-4f55-4a7a-8f6d-7c6c7f925b5b"
      },
      "execution_count": null,
      "outputs": [
        {
          "output_type": "stream",
          "name": "stdout",
          "text": [
            "Before: None\n",
            "Loop: 3 3\n",
            "Loop: 41 41\n",
            "Loop: 12 41\n",
            "Loop: 9 41\n",
            "Loop: 74 74\n",
            "Loop: 15 74\n",
            "Largest: 74\n"
          ]
        }
      ]
    },
    {
      "cell_type": "code",
      "source": [
        "suma=0\n",
        "nr_valori=0\n",
        "while True:\n",
        "  try:\n",
        "    line = input('gata ')\n",
        "    if line == 'gata':\n",
        "        break\n",
        "    else:\n",
        "      suma=suma+int(line)\n",
        "      nr_valori=nr_valori+1\n",
        "  except:\n",
        "    print('Valori gresite')\n",
        "print('Suma este ',int(suma))\n",
        "print('Numarul de valori este ', int(nr_valori))\n",
        "print('Media numerelor este ', int(suma)/int(nr_valori))\n",
        "\n",
        "    \n",
        "\n"
      ],
      "metadata": {
        "colab": {
          "base_uri": "https://localhost:8080/"
        },
        "id": "OnM1Mk6U_9Gm",
        "outputId": "51d742b4-d69a-4f0a-c0d9-8749bc740131"
      },
      "execution_count": null,
      "outputs": [
        {
          "output_type": "stream",
          "name": "stdout",
          "text": [
            "gata 5\n",
            "gata 4\n",
            "gata 3\n",
            "gata gata\n",
            "Suma este  12\n",
            "Numarul de valori este  3\n",
            "Media numerelor este  4.0\n"
          ]
        }
      ]
    }
  ]
}